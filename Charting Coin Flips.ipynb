{
 "cells": [
  {
   "cell_type": "code",
   "execution_count": 2,
   "metadata": {
    "collapsed": true
   },
   "outputs": [],
   "source": [
    "import random\n",
    "import math\n",
    "import statistics as st\n",
    "import matplotlib.pyplot as plt"
   ]
  },
  {
   "cell_type": "code",
   "execution_count": 3,
   "metadata": {
    "collapsed": true
   },
   "outputs": [],
   "source": [
    "#heads is 1\n",
    "#tails is 0\n",
    "\n",
    "def coin_flipper():\n",
    "    return random.randint(0, 1)\n",
    "\n",
    "def flipper_count(n=(2**16)):\n",
    "    heads = 0\n",
    "    tails = 0\n",
    "    for _ in range(n):\n",
    "        if coin_flipper() == 1:\n",
    "            heads += 1\n",
    "        else:\n",
    "            tails += 1\n",
    "    return (heads, tails)\n",
    "    \n",
    "def flipper_intervals():\n",
    "    return [flipper_count(2**x) for x in [0, 1, 2, 4, 8, 16]]\n",
    "    \n"
   ]
  },
  {
   "cell_type": "code",
   "execution_count": 4,
   "metadata": {
    "collapsed": true
   },
   "outputs": [],
   "source": [
    "%matplotlib inline"
   ]
  },
  {
   "cell_type": "code",
   "execution_count": 49,
   "metadata": {
    "collapsed": false
   },
   "outputs": [],
   "source": [
    "y = flipper_intervals()"
   ]
  },
  {
   "cell_type": "code",
   "execution_count": 50,
   "metadata": {
    "collapsed": false
   },
   "outputs": [
    {
     "name": "stdout",
     "output_type": "stream",
     "text": [
      "[(0, 1), (1, 1), (3, 1), (7, 9), (131, 125), (32648, 32888)]\n"
     ]
    }
   ],
   "source": [
    "print(y)"
   ]
  },
  {
   "cell_type": "code",
   "execution_count": 5,
   "metadata": {
    "collapsed": true
   },
   "outputs": [],
   "source": [
    "def heads_tails_diff(flips):\n",
    "    return [h - t for h, t in flips]\n",
    "\n",
    "def heads_tails_ratio(flips):\n",
    "    return [h/t for h, t in flips]"
   ]
  },
  {
   "cell_type": "code",
   "execution_count": 38,
   "metadata": {
    "collapsed": false
   },
   "outputs": [],
   "source": [
    "diffs = heads_tails_diff(y)\n",
    "ratio = heads_tails_ratio(y)"
   ]
  },
  {
   "cell_type": "code",
   "execution_count": 53,
   "metadata": {
    "collapsed": false
   },
   "outputs": [
    {
     "name": "stdout",
     "output_type": "stream",
     "text": [
      "[-1, 0, 2, -2, 6, -240]\n",
      "[0.0, 1.0, 3.0, 0.7777777777777778, 1.048, 0.9927025054731209]\n"
     ]
    }
   ],
   "source": [
    "print(diffs)\n",
    "print(ratio)"
   ]
  },
  {
   "cell_type": "code",
   "execution_count": 39,
   "metadata": {
    "collapsed": false
   },
   "outputs": [
    {
     "data": {
      "text/plain": [
       "<matplotlib.text.Text at 0x10fce2748>"
      ]
     },
     "execution_count": 39,
     "metadata": {},
     "output_type": "execute_result"
    },
    {
     "data": {
      "image/png": "[encoded data removed]",
      "text/plain": [
       "<matplotlib.figure.Figure at 0x111c5d390>"
      ]
     },
     "metadata": {},
     "output_type": "display_data"
    }
   ],
   "source": [
    "x1 = [\"2^0\", \"2^1\", \"2^2\", \"2^4\", \"2^8\", \"2^16\"]\n",
    "plt.plot(diffs)\n",
    "plt.yscale(\"symlog\")\n",
    "plt.xticks([0, 1, 2, 3, 4, 5], x1)\n",
    "plt.ylabel(\"Heads/Tails Difference\")\n",
    "plt.xlabel(\"Number of flips\")\n",
    "plt.title(\"Coin Flip Differences\")"
   ]
  },
  {
   "cell_type": "markdown",
   "metadata": {},
   "source": [
    "In the early stages, the difference in number of heads and number of tails is very small, as we would expect. As the number of flips increases, the difference will grow, though it is still relatively small compared to the total number of flips."
   ]
  },
  {
   "cell_type": "code",
   "execution_count": 55,
   "metadata": {
    "collapsed": false
   },
   "outputs": [
    {
     "data": {
      "text/plain": [
       "<matplotlib.text.Text at 0x1077fc7b8>"
      ]
     },
     "execution_count": 55,
     "metadata": {},
     "output_type": "execute_result"
    },
    {
     "data": {
      "image/png": "[encoded data removed]",
      "text/plain": [
       "<matplotlib.figure.Figure at 0x107656d30>"
      ]
     },
     "metadata": {},
     "output_type": "display_data"
    }
   ],
   "source": [
    "x1 = [\"2^0\", \"2^1\", \"2^2\", \"2^4\", \"2^8\", \"2^16\"]\n",
    "plt.plot(ratio)\n",
    "plt.xticks([0, 1, 2, 3, 4, 5], x1)\n",
    "plt.ylabel(\"Heads/Tails Ratio\")\n",
    "plt.xlabel(\"Number of flips\")\n",
    "plt.title(\"Coin Flip Ratio\")"
   ]
  },
  {
   "cell_type": "markdown",
   "metadata": {},
   "source": [
    "The ratio graph shows exactly what we would expect, which is actually the opposite of the difference graph. Early on, the ratio of heads to tails is large (for example, 3 to 1 after four flips). But as the number of flips grows, the ratio approaches 1 to 1. Comparing this graph with the above graph, we see that with lower numbers of flips, the ratio is bigger but the difference is smaller. As the number of flips increases exponentially, the ratio gets smaller (approaching 1), while the difference gets larger."
   ]
  },
  {
   "cell_type": "code",
   "execution_count": 35,
   "metadata": {
    "collapsed": false
   },
   "outputs": [
    {
     "data": {
      "image/png": "[encoded data removed]",
      "text/plain": [
       "<matplotlib.figure.Figure at 0x110121fd0>"
      ]
     },
     "metadata": {},
     "output_type": "display_data"
    }
   ],
   "source": [
    "x1 = [\"2^0\", \"2^1\", \"2^2\", \"2^4\", \"2^8\", \"2^16\"]\n",
    "diff = [-1, 0, 2, -2, 6, -240]\n",
    "plt.scatter(range(6), diff)\n",
    "plt.yscale(\"symlog\")\n",
    "plt.xticks(range(6), x1)\n",
    "plt.ylabel(\"Heads/Tails Difference\")\n",
    "plt.xlabel(\"Number of flips\")\n",
    "plt.title(\"Coin Flip Differences\")\n",
    "plt.show()"
   ]
  },
  {
   "cell_type": "markdown",
   "metadata": {},
   "source": [
    "Again, it's apparent that the number of differences between heads and tails grows tremendously as the number of flips increases, but 240 more tails than heads isn't significant over the course of 65,000 flips."
   ]
  },
  {
   "cell_type": "code",
   "execution_count": 57,
   "metadata": {
    "collapsed": false
   },
   "outputs": [
    {
     "data": {
      "text/plain": [
       "<matplotlib.text.Text at 0x106d0bfd0>"
      ]
     },
     "execution_count": 57,
     "metadata": {},
     "output_type": "execute_result"
    },
    {
     "data": {
      "image/png": "[encoded data removed]",
      "text/plain": [
       "<matplotlib.figure.Figure at 0x103f59470>"
      ]
     },
     "metadata": {},
     "output_type": "display_data"
    }
   ],
   "source": [
    "x1 = [\"2^0\", \"2^1\", \"2^2\", \"2^4\", \"2^8\", \"2^16\"]\n",
    "plt.scatter(range(6), ratio)\n",
    "plt.xticks(range(6), x1)\n",
    "plt.ylabel(\"Heads/Tails Ratio\")\n",
    "plt.xlabel(\"Number of flips\")\n",
    "plt.title(\"Coin Flip Ratio\")"
   ]
  },
  {
   "cell_type": "markdown",
   "metadata": {},
   "source": [
    "Same as above, just represented as scatterplot. Early on, lots of fluctuation in ratio of heads to tails. With a much larger number of flips, the ratio approaches 1."
   ]
  },
  {
   "cell_type": "markdown",
   "metadata": {},
   "source": [
    "# MEAN and STANDARD DEVIATION"
   ]
  },
  {
   "cell_type": "code",
   "execution_count": 58,
   "metadata": {
    "collapsed": true
   },
   "outputs": [],
   "source": [
    "def flip_trials(num_trials):\n",
    "    return [flipper_count(2**16) for trial in range(num_trials)]"
   ]
  },
  {
   "cell_type": "code",
   "execution_count": 59,
   "metadata": {
    "collapsed": true
   },
   "outputs": [],
   "source": [
    "trials = flip_trials(20)"
   ]
  },
  {
   "cell_type": "code",
   "execution_count": 60,
   "metadata": {
    "collapsed": false
   },
   "outputs": [
    {
     "name": "stdout",
     "output_type": "stream",
     "text": [
      "[(32741, 32795), (32874, 32662), (33072, 32464), (32493, 33043), (32569, 32967), (32884, 32652), (33006, 32530), (32516, 33020), (32863, 32673), (32970, 32566), (32978, 32558), (32784, 32752), (32766, 32770), (32861, 32675), (32834, 32702), (32831, 32705), (32755, 32781), (32888, 32648), (32959, 32577), (32741, 32795)]\n"
     ]
    }
   ],
   "source": [
    "print(trials)"
   ]
  },
  {
   "cell_type": "code",
   "execution_count": 62,
   "metadata": {
    "collapsed": false
   },
   "outputs": [],
   "source": [
    "trial_diffs = heads_tails_diff(trials)\n",
    "trial_ratios = heads_tails_ratio(trials)"
   ]
  },
  {
   "cell_type": "code",
   "execution_count": 63,
   "metadata": {
    "collapsed": false
   },
   "outputs": [
    {
     "name": "stdout",
     "output_type": "stream",
     "text": [
      "[-54, 212, 608, -550, -398, 232, 476, -504, 190, 404, 420, 32, -4, 186, 132, 126, -26, 240, 382, -54]\n",
      "[0.9983534075316359, 1.0064907231645337, 1.0187284376540167, 0.983355022243743, 0.9879273212606546, 1.0071052309200048, 1.0146326467875808, 0.9847365233192005, 1.0058151990940531, 1.0124055763679911, 1.0129000552859513, 1.0009770395701025, 0.9998779371376258, 1.0056924254016832, 1.0040364503700079, 1.0038526219232533, 0.9992068576309447, 1.007351139426611, 1.0117260644012647, 0.9983534075316359]\n"
     ]
    }
   ],
   "source": [
    "print(trial_diffs)\n",
    "print(trial_ratios)"
   ]
  },
  {
   "cell_type": "code",
   "execution_count": 80,
   "metadata": {
    "collapsed": false
   },
   "outputs": [
    {
     "data": {
      "text/plain": [
       "<matplotlib.text.Text at 0x107339160>"
      ]
     },
     "execution_count": 80,
     "metadata": {},
     "output_type": "execute_result"
    },
    {
     "data": {
      "image/png": "[encoded data removed]",
      "text/plain": [
       "<matplotlib.figure.Figure at 0x1081494a8>"
      ]
     },
     "metadata": {},
     "output_type": "display_data"
    }
   ],
   "source": [
    "x1 = [\"1\", \"5\", \"10\", \"15\", \"20\"]\n",
    "plt.scatter(range(20), trial_ratios)\n",
    "plt.xticks([0, 4, 9, 14, 19], x1)\n",
    "plt.ylabel(\"Heads/Tails Ratio\")\n",
    "plt.xlabel(\"Trial Number\")\n",
    "plt.title(\"Coin Flip Ratios\")"
   ]
  },
  {
   "cell_type": "code",
   "execution_count": 6,
   "metadata": {
    "collapsed": true
   },
   "outputs": [],
   "source": [
    "def get_mean(nums):\n",
    "    return st.mean(nums)\n",
    "\n",
    "def standard_dev(nums):\n",
    "    return st.stdev(nums)"
   ]
  },
  {
   "cell_type": "code",
   "execution_count": 86,
   "metadata": {
    "collapsed": true
   },
   "outputs": [],
   "source": [
    "mean_trials = get_mean(trial_ratios)\n",
    "stdev_trials = standard_dev(trial_ratios)"
   ]
  },
  {
   "cell_type": "code",
   "execution_count": 87,
   "metadata": {
    "collapsed": false
   },
   "outputs": [
    {
     "name": "stdout",
     "output_type": "stream",
     "text": [
      "1.0031762043511248\n",
      "0.00953586635362274\n"
     ]
    }
   ],
   "source": [
    "print(mean_trials)\n",
    "print(stdev_trials)"
   ]
  },
  {
   "cell_type": "code",
   "execution_count": 92,
   "metadata": {
    "collapsed": false
   },
   "outputs": [
    {
     "data": {
      "text/plain": [
       "<matplotlib.collections.LineCollection at 0x108663a58>"
      ]
     },
     "execution_count": 92,
     "metadata": {},
     "output_type": "execute_result"
    },
    {
     "data": {
      "image/png": "[encoded data removed]",
      "text/plain": [
       "<matplotlib.figure.Figure at 0x1085a9940>"
      ]
     },
     "metadata": {},
     "output_type": "display_data"
    }
   ],
   "source": [
    "x1 = [\"1\", \"5\", \"10\", \"15\", \"20\"]\n",
    "\n",
    "plt.scatter(range(20), trial_ratios)\n",
    "plt.xticks([0, 4, 9, 14, 19], x1)\n",
    "plt.ylabel(\"Heads/Tails Ratio\")\n",
    "plt.xlabel(\"Trial Number\")\n",
    "plt.title(\"Coin Flip Ratios\")\n",
    "plt.hlines(mean_trials, xmin=0, xmax=20, color=\"blue\")\n",
    "plt.hlines([mean_trials + stdev_trials, mean_trials - stdev_trials], xmin=0, xmax=20, linestyles=\"dashed\", color=\"blue\")"
   ]
  },
  {
   "cell_type": "markdown",
   "metadata": {},
   "source": [
    "It's interesting to see that the earlier trials seem to be further outside the standard deviation, and there are more of them outside the standard deviation. As the number of trials increases towards 20, the ratio is closer to the mean and more are within the standard deviation. It's probably just due to coincidence, but we could run it again to see what happens."
   ]
  },
  {
   "cell_type": "code",
   "execution_count": 93,
   "metadata": {
    "collapsed": true
   },
   "outputs": [],
   "source": [
    "trials2 = flip_trials(20)"
   ]
  },
  {
   "cell_type": "code",
   "execution_count": 94,
   "metadata": {
    "collapsed": true
   },
   "outputs": [],
   "source": [
    "trial_diffs2 = heads_tails_diff(trials2)\n",
    "trial_ratios2 = heads_tails_ratio(trials2)"
   ]
  },
  {
   "cell_type": "code",
   "execution_count": 95,
   "metadata": {
    "collapsed": true
   },
   "outputs": [],
   "source": [
    "mean_trials = get_mean(trial_ratios2)\n",
    "stdev_trials = standard_dev(trial_ratios2)"
   ]
  },
  {
   "cell_type": "code",
   "execution_count": 97,
   "metadata": {
    "collapsed": false
   },
   "outputs": [
    {
     "data": {
      "text/plain": [
       "<matplotlib.collections.LineCollection at 0x108871898>"
      ]
     },
     "execution_count": 97,
     "metadata": {},
     "output_type": "execute_result"
    },
    {
     "data": {
      "image/png": "[encoded data removed]",
      "text/plain": [
       "<matplotlib.figure.Figure at 0x1088e5630>"
      ]
     },
     "metadata": {},
     "output_type": "display_data"
    }
   ],
   "source": [
    "x1 = [\"1\", \"5\", \"10\", \"15\", \"20\"]\n",
    "\n",
    "plt.scatter(range(20), trial_ratios2)\n",
    "plt.xticks([0, 4, 9, 14, 19], x1)\n",
    "plt.ylabel(\"Heads/Tails Ratio\")\n",
    "plt.xlabel(\"Trial Number\")\n",
    "plt.title(\"Coin Flip Ratios\")\n",
    "plt.hlines(mean_trials, xmin=0, xmax=20, color=\"blue\")\n",
    "plt.hlines([mean_trials + stdev_trials, mean_trials - stdev_trials], xmin=0, xmax=20, linestyles=\"dashed\", color=\"blue\")"
   ]
  },
  {
   "cell_type": "markdown",
   "metadata": {},
   "source": [
    "And I ran it again, and it's the same trend with this one. Less variance as the trials move on. Very interesting. Again, it could be coincidence, and the sample size isn't very large."
   ]
  },
  {
   "cell_type": "code",
   "execution_count": 17,
   "metadata": {
    "collapsed": false
   },
   "outputs": [],
   "source": [
    "hundred_trials = [flipper_count(100) for trial in range(100000)]"
   ]
  },
  {
   "cell_type": "code",
   "execution_count": 18,
   "metadata": {
    "collapsed": true
   },
   "outputs": [],
   "source": [
    "hundred_ratios = [trial[0] / 100 for trial in hundred_trials]"
   ]
  },
  {
   "cell_type": "code",
   "execution_count": 48,
   "metadata": {
    "collapsed": false
   },
   "outputs": [
    {
     "data": {
      "image/png": "[encoded data removed]",
      "text/plain": [
       "<matplotlib.figure.Figure at 0x11196d518>"
      ]
     },
     "metadata": {},
     "output_type": "display_data"
    }
   ],
   "source": [
    "plt.hist(hundred_ratios, bins=50)\n",
    "plt.xlabel(\"Heads/Flips Ratio\")\n",
    "plt.ylabel(\"Number\")\n",
    "plt.title(\"Distribution of Heads Flips\")\n",
    "\n",
    "ymin, ymax = plt.ylim()\n",
    "heads_mean = st.mean(hundred_ratios)\n",
    "heads_stdev = st.stdev(hundred_ratios)\n",
    "plt.vlines(heads_mean, ymin, ymax=9000, label=\"Mean\", color=\"red\")\n",
    "plt.vlines([heads_mean - heads_stdev, heads_mean + heads_stdev], ymin, ymax=9000, label=\"Stand. Dev.\", linestyles=\"dashed\", color=\"red\")\n",
    "plt.legend()\n",
    "plt.show()"
   ]
  },
  {
   "cell_type": "markdown",
   "metadata": {},
   "source": [
    "With 100,000 trials of 100 flips for each trial, we see a normal distribution. Because the number of flips for each trial is only 100, the distribution is spread out further than the one below with 1000 flips per trial. Compare the x-axis values here with the x-axis values below. (On a side note, I wonder why there are some points that seem to have zero results - is that just the graph not rendering quite correctly, or are those values really 0?)"
   ]
  },
  {
   "cell_type": "code",
   "execution_count": 21,
   "metadata": {
    "collapsed": false
   },
   "outputs": [],
   "source": [
    "thousand_trials = [flipper_count(1000) for trial in range(100000)]\n",
    "thousand_ratios = [trial[0] / 1000 for trial in thousand_trials]"
   ]
  },
  {
   "cell_type": "code",
   "execution_count": 49,
   "metadata": {
    "collapsed": false
   },
   "outputs": [
    {
     "data": {
      "image/png": "[encoded data removed]",
      "text/plain": [
       "<matplotlib.figure.Figure at 0x111952320>"
      ]
     },
     "metadata": {},
     "output_type": "display_data"
    }
   ],
   "source": [
    "plt.hist(thousand_ratios, bins=50)\n",
    "plt.xlabel(\"Heads/Flips Ratio\")\n",
    "plt.ylabel(\"Number\")\n",
    "plt.title(\"Distribution of Heads Flips\")\n",
    "\n",
    "ymin, ymax = plt.ylim()\n",
    "th_heads_mean = st.mean(thousand_ratios)\n",
    "th_heads_stdev = st.stdev(thousand_ratios)\n",
    "plt.vlines(th_heads_mean, ymin, ymax, label=\"Mean\", color=\"red\")\n",
    "plt.vlines([th_heads_mean - th_heads_stdev, th_heads_mean + th_heads_stdev], ymin, ymax, label=\"Stand. Dev.\", linestyles=\"dashed\", color=\"red\")\n",
    "plt.legend()\n",
    "plt.show()"
   ]
  },
  {
   "cell_type": "markdown",
   "metadata": {},
   "source": [
    "Here again we see normal distribution, but with less variance from the mean because the number of flips was 1000 instead of 100. The x-axis here doesn't have nearly the range as the x_axis above. Over the higher number of flips, the ratio of heads to total number of flips varies less (it's closer to 0.50)."
   ]
  },
  {
   "cell_type": "code",
   "execution_count": 34,
   "metadata": {
    "collapsed": false
   },
   "outputs": [
    {
     "data": {
      "image/png": "[encoded data removed]",
      "text/plain": [
       "<matplotlib.figure.Figure at 0x10f2be438>"
      ]
     },
     "metadata": {},
     "output_type": "display_data"
    }
   ],
   "source": [
    "plt.boxplot([hundred_ratios, thousand_ratios])\n",
    "ymin, ymax = plt.ylim()\n",
    "plt.ylim(ymin, ymax)\n",
    "plt.title(\"Ratio of Heads Flips\")   \n",
    "plt.ylabel(\"Heads/Flips Ratio\")\n",
    "plt.xticks(range(1,3), [\"100 Flips\", \"1000 Flips\"])\n",
    "plt.show()"
   ]
  },
  {
   "cell_type": "markdown",
   "metadata": {},
   "source": [
    "The boxplot most clearly shows the differences between 100 flips and 1000 flips. With 1000 flips in each trial (for 100,000 trials), the results are more densely packed around 0.50 and less spread out. This makes sense from our ratios earlier - as the number of flips increases, the ratio gets closer to 1 to 1 for heads to tails, or 0.50 for heads to total flips."
   ]
  },
  {
   "cell_type": "code",
   "execution_count": null,
   "metadata": {
    "collapsed": true
   },
   "outputs": [],
   "source": []
  }
 ],
 "metadata": {
  "kernelspec": {
   "display_name": "Python 3",
   "language": "python",
   "name": "python3"
  },
  "language_info": {
   "codemirror_mode": {
    "name": "ipython",
    "version": 3
   },
   "file_extension": ".py",
   "mimetype": "text/x-python",
   "name": "python",
   "nbconvert_exporter": "python",
   "pygments_lexer": "ipython3",
   "version": "3.5.0"
  }
 },
 "nbformat": 4,
 "nbformat_minor": 0
}
