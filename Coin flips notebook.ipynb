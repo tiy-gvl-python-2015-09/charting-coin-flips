{
 "cells": [
  {
   "cell_type": "code",
   "execution_count": 391,
   "metadata": {
    "collapsed": false
   },
   "outputs": [],
   "source": [
    "import random\n",
    "import math\n",
    "import statistics\n",
    "import matplotlib.pyplot as plt\n"
   ]
  },
  {
   "cell_type": "code",
   "execution_count": 268,
   "metadata": {
    "collapsed": true
   },
   "outputs": [],
   "source": [
    "%matplotlib inline"
   ]
  },
  {
   "cell_type": "code",
   "execution_count": 295,
   "metadata": {
    "collapsed": false
   },
   "outputs": [
    {
     "data": {
      "text/plain": [
       "[(1, 0), (2, 0), (4, 0), (9, 7), (129, 127), (32733, 32803)]"
      ]
     },
     "execution_count": 295,
     "metadata": {},
     "output_type": "execute_result"
    }
   ],
   "source": [
    "def heads_or_tails(x=2**16):\n",
    "    empty_list = []\n",
    "    for result in range(x):\n",
    "        result = random.randint(0,1)\n",
    "        empty_list.append(result)\n",
    "        if len(empty_list) == 2**0:\n",
    "            yield empty_list.count(1), empty_list.count(0)\n",
    "        if len(empty_list) == 2**1:\n",
    "            yield empty_list.count(1), empty_list.count(0)\n",
    "        if len(empty_list) == 2**2:\n",
    "            yield empty_list.count(1), empty_list.count(0)\n",
    "        if len(empty_list) == 2**4:\n",
    "            yield empty_list.count(1), empty_list.count(0)\n",
    "        if len(empty_list) == 2**8:\n",
    "            yield empty_list.count(1), empty_list.count(0)\n",
    "        if len(empty_list) == 2**16:\n",
    "            yield empty_list.count(1), empty_list.count(0)\n",
    "    \n",
    "data_table = list(heads_or_tails())\n",
    "data_table "
   ]
  },
  {
   "cell_type": "markdown",
   "metadata": {},
   "source": [
    "Tuples shwoing heads vs. tails results in different sized trials"
   ]
  },
  {
   "cell_type": "code",
   "execution_count": 296,
   "metadata": {
    "collapsed": false
   },
   "outputs": [
    {
     "name": "stdout",
     "output_type": "stream",
     "text": [
      "[1, 0]\n",
      "[2, 0]\n",
      "[4, 0]\n",
      "[9, 7]\n",
      "[129, 127]\n",
      "[32733, 32803]\n"
     ]
    }
   ],
   "source": [
    "def heads_tails_diff(data):\n",
    "    alist = []\n",
    "    for result in data:\n",
    "        result = list(result)\n",
    "        print(result)\n",
    "        for x in result:\n",
    "            difference = result[1] - result[0]\n",
    "            alist.append(difference)\n",
    "            break\n",
    "    return alist\n",
    "\n",
    "end_results = heads_tails_diff(data_table)"
   ]
  },
  {
   "cell_type": "markdown",
   "metadata": {},
   "source": [
    "Putting these results into lists (first value = heads)"
   ]
  },
  {
   "cell_type": "code",
   "execution_count": 297,
   "metadata": {
    "collapsed": false
   },
   "outputs": [
    {
     "name": "stdout",
     "output_type": "stream",
     "text": [
      "[-1, -2, -4, -8, 24, 150]\n",
      "[0.0, 0.0, 0.0, 0.3333333333333333, 1.206896551724138, 1.0045881381335453]\n",
      "[1, 2, 4, 12, 116, 32693]\n",
      "[0, 0, 0, 4, 140, 32843]\n"
     ]
    }
   ],
   "source": [
    "def heads_or_tails(x=16):\n",
    "    empty_list = []\n",
    "    for result in range(2**x):\n",
    "        result = random.randint(0,1)\n",
    "        empty_list.append(result)\n",
    "        if len(empty_list) == 2**0:\n",
    "            yield empty_list.count(1), empty_list.count(0)\n",
    "        if len(empty_list) == 2**1:\n",
    "            yield empty_list.count(1), empty_list.count(0)\n",
    "        if len(empty_list) == 2**2:\n",
    "            yield empty_list.count(1), empty_list.count(0)\n",
    "        if len(empty_list) == 2**4:\n",
    "            yield empty_list.count(1), empty_list.count(0)\n",
    "        if len(empty_list) == 2**8:\n",
    "            yield empty_list.count(1), empty_list.count(0)\n",
    "        if len(empty_list) == 2**16:\n",
    "            yield empty_list.count(1), empty_list.count(0)\n",
    "    \n",
    "dataset = list(heads_or_tails())\n",
    "\n",
    "def heads_tails_diff(data):\n",
    "    differences_list = []\n",
    "    for result in data:\n",
    "        result = list(result)\n",
    "        for x in result:\n",
    "            difference = result[1] - result[0]\n",
    "            differences_list.append(difference)\n",
    "            break\n",
    "    return differences_list\n",
    "\n",
    "def heads_tails_ratio(data):\n",
    "    ratio_list = []\n",
    "    for result in data:\n",
    "        result = list(result)\n",
    "        for x in result:\n",
    "            try:\n",
    "                ratio = result[1] / result[0]\n",
    "                ratio_list.append(ratio)\n",
    "            except: \n",
    "                if result[0] == 0:\n",
    "                    ratio = result[1]\n",
    "                    ratio_list.append(ratio)\n",
    "            break\n",
    "    return ratio_list\n",
    "\n",
    "def heads_tails_totals(data):\n",
    "    heads_list = []\n",
    "    tails_list = []\n",
    "    for result in data:\n",
    "        result = list(result)\n",
    "        for x in result:\n",
    "            heads_list.append(result[0])\n",
    "            tails_list.append(result[1])\n",
    "            break\n",
    "    return heads_list, tails_list\n",
    "\n",
    "differentials = heads_tails_diff(dataset)\n",
    "ratios = heads_tails_ratio(dataset)\n",
    "totals = heads_tails_totals(dataset)\n",
    "total_heads = totals[0]\n",
    "total_tails = totals[1]\n",
    "\n",
    "print(differentials)\n",
    "print(ratios)\n",
    "print(total_heads)\n",
    "print(total_tails)"
   ]
  },
  {
   "cell_type": "markdown",
   "metadata": {},
   "source": [
    "Showing:\n",
    "1) Differential between heads and tails for 2^0, 2^1, 2^2, 2^4 ,2^8 , 2^16 trials\n",
    "2) Heads to tails ratio\n",
    "3) Total Heads\n",
    "4) Total Tails"
   ]
  },
  {
   "cell_type": "code",
   "execution_count": 298,
   "metadata": {
    "collapsed": false
   },
   "outputs": [
    {
     "data": {
      "image/png": "[encoded data removed]",
      "text/plain": [
       "<matplotlib.figure.Figure at 0x1185c8a58>"
      ]
     },
     "metadata": {},
     "output_type": "display_data"
    }
   ],
   "source": [
    "lengths = [2**0, 2**1, 2**2, 2**4, 2**8, 2**16]\n",
    "\n",
    "y1 = differentials\n",
    "x1 = [lengths[0],lengths[1],lengths[2],lengths[3],lengths[4],lengths[5]]\n",
    "plt.xticks([0,1,2,3,4,5], x1)\n",
    "plt.plot(y1)\n",
    "plt.ylabel(\"Heads - Tails\")\n",
    "plt.title(\"Heads and Tails Differential\")\n",
    "plt.xlabel(\"# Flips\")\n",
    "plt.show()"
   ]
  },
  {
   "cell_type": "markdown",
   "metadata": {},
   "source": [
    "It is very reasonalble that the difference between total heads and tails will increase when you increase the trial size exponentially to over 65,000 flips. However, the fact that it was only about a 160 flip difference in that many trials is incredibly telling, and that smallness of that difference is misrepresented in my mind inthis graph."
   ]
  },
  {
   "cell_type": "code",
   "execution_count": 399,
   "metadata": {
    "collapsed": false
   },
   "outputs": [
    {
     "ename": "TypeError",
     "evalue": "'str' object is not callable",
     "output_type": "error",
     "traceback": [
      "\u001b[0;31m---------------------------------------------------------------------------\u001b[0m",
      "\u001b[0;31mTypeError\u001b[0m                                 Traceback (most recent call last)",
      "\u001b[0;32m<ipython-input-399-4036f1456b0f>\u001b[0m in \u001b[0;36m<module>\u001b[0;34m()\u001b[0m\n\u001b[1;32m      2\u001b[0m \u001b[0;34m\u001b[0m\u001b[0m\n\u001b[1;32m      3\u001b[0m \u001b[0my1\u001b[0m \u001b[0;34m=\u001b[0m \u001b[0mdifferentials\u001b[0m\u001b[0;34m\u001b[0m\u001b[0m\n\u001b[0;32m----> 4\u001b[0;31m \u001b[0mplt\u001b[0m\u001b[0;34m.\u001b[0m\u001b[0mxscale\u001b[0m\u001b[0;34m(\u001b[0m\u001b[0;34m'log'\u001b[0m\u001b[0;34m)\u001b[0m\u001b[0;34m\u001b[0m\u001b[0m\n\u001b[0m\u001b[1;32m      5\u001b[0m \u001b[0;31m#plt.xticks([1,2,3,4])\u001b[0m\u001b[0;34m\u001b[0m\u001b[0;34m\u001b[0m\u001b[0m\n\u001b[1;32m      6\u001b[0m \u001b[0mplt\u001b[0m\u001b[0;34m.\u001b[0m\u001b[0mscatter\u001b[0m\u001b[0;34m(\u001b[0m\u001b[0mrange\u001b[0m\u001b[0;34m(\u001b[0m\u001b[0;36m6\u001b[0m\u001b[0;34m)\u001b[0m\u001b[0;34m,\u001b[0m \u001b[0my1\u001b[0m\u001b[0;34m)\u001b[0m\u001b[0;34m\u001b[0m\u001b[0m\n",
      "\u001b[0;31mTypeError\u001b[0m: 'str' object is not callable"
     ]
    }
   ],
   "source": [
    "lengths = [2**0, 2**1, 2**2, 2**4, 2**8, 2**16]\n",
    "\n",
    "y1 = differentials\n",
    "plt.xscale('log')\n",
    "#plt.xticks([1,2,3,4])\n",
    "plt.scatter(range(6), y1)\n",
    "plt.ylabel(\"Heads - Tails\")\n",
    "plt.title(\"Heads and Tails Differential\")\n",
    "plt.xlabel(\"# Flips\")\n",
    "plt.show()"
   ]
  },
  {
   "cell_type": "markdown",
   "metadata": {},
   "source": [
    "The data is more accurately depicted using a logarithmic scale for the x axis"
   ]
  },
  {
   "cell_type": "code",
   "execution_count": 317,
   "metadata": {
    "collapsed": false
   },
   "outputs": [
    {
     "name": "stdout",
     "output_type": "stream",
     "text": [
      "[0.0, 0.0, 0.0, 0.3333333333333333, 1.206896551724138, 1.0045881381335453]\n"
     ]
    },
    {
     "data": {
      "image/png": "[encoded data removed]",
      "text/plain": [
       "<matplotlib.figure.Figure at 0x1186626d8>"
      ]
     },
     "metadata": {},
     "output_type": "display_data"
    }
   ],
   "source": [
    "y1 = ratios\n",
    "print(ratios)\n",
    "x1 = [lengths[0],lengths[1],lengths[2],lengths[3],lengths[4],lengths[5]]\n",
    "plt.xticks([0,1,2,3,4,5], x1)\n",
    "plt.plot(y1)\n",
    "plt.ylabel(\"Heads : Tails\")\n",
    "plt.title(\"Heads to Tails Ratio\")\n",
    "plt.xlabel(\"# Flips\")\n",
    "plt.show()"
   ]
  },
  {
   "cell_type": "markdown",
   "metadata": {},
   "source": [
    "After the first trial of one flip, which can be thrown away, the ratio between heads and tails remains remarkably close to 1.0. This is a much better representation of what is going on than the differentials. "
   ]
  },
  {
   "cell_type": "code",
   "execution_count": 364,
   "metadata": {
    "collapsed": false
   },
   "outputs": [
    {
     "data": {
      "image/png": "[encoded data removed]",
      "text/plain": [
       "<matplotlib.figure.Figure at 0x118609940>"
      ]
     },
     "metadata": {},
     "output_type": "display_data"
    }
   ],
   "source": [
    "y1 = ratios\n",
    "plt.xscale = \"log\"\n",
    "#x1 = [\"1\", \"2\", \"4\", \"16\",\"256\",\"65536\"]\n",
    "#plt.xticks([0,1,2,3,4,5], x1)\n",
    "plt.scatter(range(6), y1)\n",
    "plt.ylabel(\"Heads : Tails\")\n",
    "plt.title(\"Heads to Tails Ratio\")\n",
    "plt.xlabel(\"# Flips\")\n",
    "plt.show()"
   ]
  },
  {
   "cell_type": "code",
   "execution_count": 319,
   "metadata": {
    "collapsed": false
   },
   "outputs": [
    {
     "ename": "TypeError",
     "evalue": "'str' object is not callable",
     "output_type": "error",
     "traceback": [
      "\u001b[0;31m---------------------------------------------------------------------------\u001b[0m",
      "\u001b[0;31mTypeError\u001b[0m                                 Traceback (most recent call last)",
      "\u001b[0;32m<ipython-input-319-4fb449cba540>\u001b[0m in \u001b[0;36m<module>\u001b[0;34m()\u001b[0m\n\u001b[1;32m      1\u001b[0m \u001b[0my1\u001b[0m \u001b[0;34m=\u001b[0m \u001b[0mratios\u001b[0m\u001b[0;34m\u001b[0m\u001b[0m\n\u001b[0;32m----> 2\u001b[0;31m \u001b[0mplt\u001b[0m\u001b[0;34m.\u001b[0m\u001b[0mxscale\u001b[0m\u001b[0;34m(\u001b[0m\u001b[0;34m\"symlog\"\u001b[0m\u001b[0;34m)\u001b[0m\u001b[0;34m\u001b[0m\u001b[0m\n\u001b[0m\u001b[1;32m      3\u001b[0m \u001b[0mplt\u001b[0m\u001b[0;34m.\u001b[0m\u001b[0mxticks\u001b[0m\u001b[0;34m(\u001b[0m\u001b[0;34m[\u001b[0m\u001b[0;36m0\u001b[0m\u001b[0;34m,\u001b[0m\u001b[0;36m1\u001b[0m\u001b[0;34m,\u001b[0m\u001b[0;36m2\u001b[0m\u001b[0;34m,\u001b[0m\u001b[0;36m3\u001b[0m\u001b[0;34m,\u001b[0m\u001b[0;36m4\u001b[0m\u001b[0;34m,\u001b[0m\u001b[0;36m5\u001b[0m\u001b[0;34m]\u001b[0m\u001b[0;34m,\u001b[0m \u001b[0;34m[\u001b[0m\u001b[0;34m\"2^0\"\u001b[0m\u001b[0;34m,\u001b[0m\u001b[0;34m\"2^1\"\u001b[0m\u001b[0;34m,\u001b[0m \u001b[0;34m\"2^2\"\u001b[0m\u001b[0;34m,\u001b[0m \u001b[0;34m\"2^4\"\u001b[0m\u001b[0;34m,\u001b[0m \u001b[0;34m\"2^8\"\u001b[0m\u001b[0;34m,\u001b[0m \u001b[0;34m\"2^16\"\u001b[0m\u001b[0;34m]\u001b[0m\u001b[0;34m)\u001b[0m\u001b[0;34m\u001b[0m\u001b[0m\n\u001b[1;32m      4\u001b[0m \u001b[0mplt\u001b[0m\u001b[0;34m.\u001b[0m\u001b[0mscatter\u001b[0m\u001b[0;34m(\u001b[0m\u001b[0mrange\u001b[0m\u001b[0;34m(\u001b[0m\u001b[0;36m6\u001b[0m\u001b[0;34m)\u001b[0m\u001b[0;34m,\u001b[0m \u001b[0my1\u001b[0m\u001b[0;34m)\u001b[0m\u001b[0;34m\u001b[0m\u001b[0m\n\u001b[1;32m      5\u001b[0m \u001b[0mplt\u001b[0m\u001b[0;34m.\u001b[0m\u001b[0mylabel\u001b[0m\u001b[0;34m(\u001b[0m\u001b[0;34m\"Heads - Tails\"\u001b[0m\u001b[0;34m)\u001b[0m\u001b[0;34m\u001b[0m\u001b[0m\n",
      "\u001b[0;31mTypeError\u001b[0m: 'str' object is not callable"
     ]
    }
   ],
   "source": [
    "y1 = ratios\n",
    "plt.xscale(\"symlog\")\n",
    "plt.xticks([0,1,2,3,4,5], [\"2^0\",\"2^1\", \"2^2\", \"2^4\", \"2^8\", \"2^16\"])\n",
    "plt.scatter(range(6), y1)\n",
    "plt.ylabel(\"Heads - Tails\")\n",
    "plt.title(\"Heads and Tails Results\")\n",
    "plt.xlabel(\"# Flips\")\n",
    "plt.show()"
   ]
  },
  {
   "cell_type": "code",
   "execution_count": 56,
   "metadata": {
    "collapsed": false
   },
   "outputs": [],
   "source": [
    "def heads_or_tails(x=16):\n",
    "    empty_list = []\n",
    "    results_list = []\n",
    "    for result in range(2**x):\n",
    "        result = random.randint(0,1)\n",
    "        empty_list.append(result)\n",
    "        if len(empty_list) == 2**0:\n",
    "            yield empty_list.count(1), empty_list.count(0)\n",
    "        if len(empty_list) == 2**1:\n",
    "            yield empty_list.count(1), empty_list.count(0)\n",
    "        if len(empty_list) == 2**2:\n",
    "            yield empty_list.count(1), empty_list.count(0)\n",
    "        if len(empty_list) == 2**4:\n",
    "            yield empty_list.count(1), empty_list.count(0)\n",
    "        if len(empty_list) == 2**8:\n",
    "            yield empty_list.count(1), empty_list.count(0)\n",
    "        if len(empty_list) == 2**16:\n",
    "            yield empty_list.count(1), empty_list.count(0)\n",
    "    \n",
    "def multiple_trials(x=20):\n",
    "    trial_list = []\n",
    "    for trials in range(x):\n",
    "        trial_list.append(list(heads_or_tails()))\n",
    "    return trial_list\n",
    "\n",
    "run_multiple_trials = multiple_trials()\n",
    "\n",
    "run_multiple_trials\n",
    "\n",
    "def ordered_ratios():\n",
    "    empty_list = []\n",
    "    empty_list2 = []\n",
    "    for y in range(6):\n",
    "        for x in range(20):\n",
    "            turn = (run_multiple_trials[x][y]) \n",
    "            empty_list.append(turn)\n",
    "    return empty_list\n",
    "\n",
    "\n",
    "data_sixth_turn = ordered_ratios()[101:120]\n",
    "\n",
    "def heads_tails_ratio1(data):\n",
    "    for x in data_sixth_turn:\n",
    "        ratio_list = []\n",
    "        for result in data:\n",
    "            result = list(result)\n",
    "            for x in result:\n",
    "                ratio = result[1] / result[0]\n",
    "                ratio_list.append(ratio)\n",
    "                break\n",
    "        return ratio_list\n",
    "\n",
    "list_of_twenty_trial_ratios = heads_tails_ratio1(data_sixth_turn)\n"
   ]
  },
  {
   "cell_type": "code",
   "execution_count": 58,
   "metadata": {
    "collapsed": false
   },
   "outputs": [
    {
     "data": {
      "image/png": "[encoded data removed]",
      "text/plain": [
       "<matplotlib.figure.Figure at 0x1140d5898>"
      ]
     },
     "metadata": {},
     "output_type": "display_data"
    }
   ],
   "source": [
    "\n",
    "# plot points in scatter plot\n",
    "# plot mean as a straight line\n",
    "# plot standard deviation as two dotted lines\n",
    "y1 = ratios\n",
    "plt.xlim = (0, 2**16)\n",
    "#plt.xscale(\"symlog\")\n",
    "#plt.xticks([0,1,2,3,4,5], x1)\n",
    "plt.scatter(range(6), y1)\n",
    "plt.ylabel(\"Heads - Tails\")\n",
    "plt.title(\"Heads and Tails Results\")\n",
    "plt.xlabel(\"# Flips\")\n",
    "plt.show()"
   ]
  },
  {
   "cell_type": "code",
   "execution_count": 107,
   "metadata": {
    "collapsed": false
   },
   "outputs": [
    {
     "name": "stdout",
     "output_type": "stream",
     "text": [
      "[0.9885908484039325, 1.0012214486380848, 0.995189819466009, 1.0019550342130987, 1.0045881381335453, 0.9956151035322777, 0.9951290793960058, 0.9930055043639571, 0.9988410040564858, 1.002322028719829, 0.9928842937509503, 1.0023832075529346, 1.0113556148912008, 1.0026891578046693, 0.9982315455681922, 1.002750359074657, 1.0051401297270837, 0.9989629403690712, 0.9942184219334814]\n",
      "0.999214404189235\n"
     ]
    }
   ],
   "source": [
    "twenty_trial_mean = statistics.mean(list_of_twenty_trial_ratios)\n",
    "twenty_trial_stdev = statistics.stdev(list_of_twenty_trial_ratios)\n",
    "print(list_of_twenty_trial_ratios)\n",
    "print(twenty_trial_mean)\n"
   ]
  },
  {
   "cell_type": "code",
   "execution_count": 113,
   "metadata": {
    "collapsed": false
   },
   "outputs": [
    {
     "data": {
      "text/plain": [
       "<matplotlib.text.Text at 0x115e54978>"
      ]
     },
     "execution_count": 113,
     "metadata": {},
     "output_type": "execute_result"
    },
    {
     "data": {
      "image/png": "[encoded data removed]",
      "text/plain": [
       "<matplotlib.figure.Figure at 0x115c3ff28>"
      ]
     },
     "metadata": {},
     "output_type": "display_data"
    }
   ],
   "source": [
    "y1 = list_of_twenty_trial_ratios\n",
    "x1 = [\"1\",\"3\",\"5\",\"7\",\"9\",\"11\",\"13\",\"15\",\"17\",\"19\", \"20\"]\n",
    "plt.xticks([0,2,4,6,8,10,12,14,16,18,19], x1)\n",
    "plt.scatter(range(19), y1)\n",
    "plt.ylabel(\"Heads - Tails\")\n",
    "plt.title(\"Heads to Tails Ratio for 20 Trials of 2^16 Flips\")\n",
    "plt.xlabel(\"Trial #\")\n",
    "\n"
   ]
  },
  {
   "cell_type": "code",
   "execution_count": 120,
   "metadata": {
    "collapsed": false
   },
   "outputs": [
    {
     "data": {
      "text/plain": [
       "<matplotlib.legend.Legend at 0x115a4a048>"
      ]
     },
     "execution_count": 120,
     "metadata": {},
     "output_type": "execute_result"
    },
    {
     "data": {
      "image/png": "[encoded data removed]",
      "text/plain": [
       "<matplotlib.figure.Figure at 0x11544a2e8>"
      ]
     },
     "metadata": {},
     "output_type": "display_data"
    }
   ],
   "source": [
    "y1 = list_of_twenty_trial_ratios\n",
    "x1 = [\"1\",\"3\",\"5\",\"7\",\"9\",\"11\",\"13\",\"15\",\"17\",\"19\", \"20\"]\n",
    "plt.xticks([0,2,4,6,8,10,12,14,16,18,19], x1)\n",
    "plt.scatter(range(19), y1)\n",
    "plt.ylabel(\"Heads - Tails\")\n",
    "plt.title(\"Heads to Tails Ratio for 20 Trials of 2^16 Flips\")\n",
    "plt.xlabel(\"Trial #\")\n",
    "mean_line = plt.hlines([twenty_trial_mean],0,19, 'red')\n",
    "standard_dev_line = plt.hlines([twenty_trial_mean - twenty_trial_stdev],0,19, 'red', \":\")\n",
    "plt.hlines([twenty_trial_mean + twenty_trial_stdev],0,19, 'red', \":\")\n",
    "plt.legend([standard_dev_line, mean_line], ['One Standard Deviation', 'Mean'])"
   ]
  },
  {
   "cell_type": "code",
   "execution_count": null,
   "metadata": {
    "collapsed": false
   },
   "outputs": [],
   "source": [
    "#Lastly, run 100,000 trials of 100 coin flips each. \n",
    "#Plot a histogram of the ratio of heads to total flips for each \n",
    "#trial. Run 100,000 trials of 1,000 coin flips each and \n",
    "#plot that histogram as well. Lastly, plot a box plot of \n",
    "#your results from the 100 coin flip trials and your \n",
    "#results from the 1,000 coin flip trials."
   ]
  },
  {
   "cell_type": "code",
   "execution_count": 199,
   "metadata": {
    "collapsed": false
   },
   "outputs": [],
   "source": [
    "#100,000 trials of 100 coin flips\n",
    "#1's are heads\n",
    "def heads_tails_trial(x=100):\n",
    "    empty_list = []\n",
    "    results_list = []\n",
    "    for result in range(x):\n",
    "        result = random.randint(0,1)\n",
    "        empty_list.append(result)\n",
    "    return empty_list\n",
    "    \n",
    "def multiple_trials(x=100000):\n",
    "    trial_list = []\n",
    "    for trials in range(x):\n",
    "        trial_list.append(list(heads_or_tails()))\n",
    "    return trial_list\n",
    "\n",
    "def heads_tails_ratio2(data):\n",
    "    for trial in multiple_trials:\n",
    "        ratio_list = []\n",
    "        for result in trial:\n",
    "            result = list(result)\n",
    "            for x in result:\n",
    "                ratio = result[1] / result[0]\n",
    "                ratio_list.append(ratio)\n",
    "                break\n",
    "        return ratio_list\n",
    "\n",
    "def large_trial_ratios():\n",
    "    trial_data = []\n",
    "    for trial in multiple_trials():\n",
    "        ratio = trial.count(1) / len(trial)\n",
    "        trial_data.append(ratio)\n",
    "    return trial_data\n",
    "\n",
    "hundred_coin_flip_data = large_trial_ratios()\n",
    "\n"
   ]
  },
  {
   "cell_type": "code",
   "execution_count": 207,
   "metadata": {
    "collapsed": false
   },
   "outputs": [
    {
     "data": {
      "image/png": "[encoded data removed]",
      "text/plain": [
       "<matplotlib.figure.Figure at 0x1170bcf98>"
      ]
     },
     "metadata": {},
     "output_type": "display_data"
    }
   ],
   "source": [
    "plt.hist(hundred_coin_flip_data)\n",
    "plt.title(\"Percentage Heads for 100 Flips over 100,000 Trials\")\n",
    "plt.xlabel(\"Percentage Heads for 100 Flips\")\n",
    "plt.ylabel(\"Frequency by Trials\")\n",
    "plt.show()\n"
   ]
  },
  {
   "cell_type": "code",
   "execution_count": 214,
   "metadata": {
    "collapsed": false
   },
   "outputs": [
    {
     "data": {
      "image/png": "[encoded data removed]",
      "text/plain": [
       "<matplotlib.figure.Figure at 0x1171e4c50>"
      ]
     },
     "metadata": {},
     "output_type": "display_data"
    }
   ],
   "source": [
    "plt.boxplot(hundred_coin_flip_data)\n",
    "plt.title(\"Percentage Heads for 100 Flips over 100,000 Trials\")\n",
    "plt.xlabel(\"Percentage Heads for 100 Flips\")\n",
    "plt.ylabel(\"Frequency by Trials\")\n",
    "plt.show()\n"
   ]
  },
  {
   "cell_type": "code",
   "execution_count": 208,
   "metadata": {
    "collapsed": false
   },
   "outputs": [],
   "source": [
    "def heads_tails_trial(x=1000):\n",
    "    empty_list = []\n",
    "    results_list = []\n",
    "    for result in range(x):\n",
    "        result = random.randint(0,1)\n",
    "        empty_list.append(result)\n",
    "    return empty_list\n",
    "    \n",
    "def multiple_trials(x=100000):\n",
    "    trial_list = []\n",
    "    for trials in range(x):\n",
    "        trial_list.append(list(heads_or_tails()))\n",
    "    return trial_list\n",
    "\n",
    "def heads_tails_ratio2(data):\n",
    "    for trial in multiple_trials:\n",
    "        ratio_list = []\n",
    "        for result in trial:\n",
    "            result = list(result)\n",
    "            for x in result:\n",
    "                ratio = result[1] / result[0]\n",
    "                ratio_list.append(ratio)\n",
    "                break\n",
    "        return ratio_list\n",
    "\n",
    "def large_trial_ratios():\n",
    "    trial_data = []\n",
    "    for trial in multiple_trials():\n",
    "        ratio = trial.count(1) / len(trial)\n",
    "        trial_data.append(ratio)\n",
    "    return trial_data\n",
    "\n",
    "thousand_coin_flip_data = large_trial_ratios()\n",
    "\n",
    "\n",
    "\n"
   ]
  },
  {
   "cell_type": "code",
   "execution_count": 211,
   "metadata": {
    "collapsed": false
   },
   "outputs": [
    {
     "data": {
      "image/png": "[encoded data removed]",
      "text/plain": [
       "<matplotlib.figure.Figure at 0x116fa5400>"
      ]
     },
     "metadata": {},
     "output_type": "display_data"
    }
   ],
   "source": [
    "plt.hist(thousand_coin_flip_data)\n",
    "plt.title(\"Percentage Heads for 1000 Flips over 100,000 Trials\")\n",
    "plt.xlabel(\"Percentage Heads for 1000 Flips\")\n",
    "plt.ylabel(\"Frequency by Trials\")\n",
    "plt.show()\n"
   ]
  },
  {
   "cell_type": "code",
   "execution_count": 212,
   "metadata": {
    "collapsed": false
   },
   "outputs": [
    {
     "data": {
      "image/png": "[encoded data removed]",
      "text/plain": [
       "<matplotlib.figure.Figure at 0x1171c06a0>"
      ]
     },
     "metadata": {},
     "output_type": "display_data"
    }
   ],
   "source": [
    "plt.boxplot(thousand_coin_flip_data)\n",
    "plt.title(\"Percentage Heads for 1000 Flips over 100,000 Trials\")\n",
    "plt.xlabel(\"Percentage Heads for 1000 Flips\")\n",
    "plt.ylabel(\"Frequency by Trials\")\n",
    "plt.show()"
   ]
  },
  {
   "cell_type": "code",
   "execution_count": 390,
   "metadata": {
    "collapsed": false
   },
   "outputs": [
    {
     "ename": "TypeError",
     "evalue": "'str' object is not callable",
     "output_type": "error",
     "traceback": [
      "\u001b[0;31m---------------------------------------------------------------------------\u001b[0m",
      "\u001b[0;31mTypeError\u001b[0m                                 Traceback (most recent call last)",
      "\u001b[0;32m<ipython-input-390-98c3f76f9511>\u001b[0m in \u001b[0;36m<module>\u001b[0;34m()\u001b[0m\n\u001b[0;32m----> 1\u001b[0;31m \u001b[0mplt\u001b[0m\u001b[0;34m.\u001b[0m\u001b[0mxscale\u001b[0m\u001b[0;34m(\u001b[0m\u001b[0;34m'log'\u001b[0m\u001b[0;34m)\u001b[0m\u001b[0;34m\u001b[0m\u001b[0m\n\u001b[0m",
      "\u001b[0;31mTypeError\u001b[0m: 'str' object is not callable"
     ]
    }
   ],
   "source": []
  },
  {
   "cell_type": "code",
   "execution_count": null,
   "metadata": {
    "collapsed": true
   },
   "outputs": [],
   "source": []
  }
 ],
 "metadata": {
  "kernelspec": {
   "display_name": "Python 3",
   "language": "python",
   "name": "python3"
  },
  "language_info": {
   "codemirror_mode": {
    "name": "ipython",
    "version": 3
   },
   "file_extension": ".py",
   "mimetype": "text/x-python",
   "name": "python",
   "nbconvert_exporter": "python",
   "pygments_lexer": "ipython3",
   "version": "3.5.0"
  }
 },
 "nbformat": 4,
 "nbformat_minor": 0
}
